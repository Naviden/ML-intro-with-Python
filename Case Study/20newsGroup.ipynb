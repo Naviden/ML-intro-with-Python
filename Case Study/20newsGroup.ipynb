{
 "cells": [
  {
   "cell_type": "markdown",
   "id": "9d90f3b6",
   "metadata": {},
   "source": [
    "## 20 Newsgroups Dataset Overview\n",
    "\n",
    "The 20 Newsgroups dataset is a popular collection for text classification and text mining tasks. Compiled from the newsgroup postings of 20 different topics, it offers a rich corpus for natural language processing (NLP) research and machine learning (ML) applications.\n",
    "\n",
    "### Key Features\n",
    "\n",
    "- **Topics**: The dataset encompasses a diverse range of subjects, broadly categorized into four main groups:\n",
    "  - **Computer Hardware and Software**: Discussions about technology, including graphics cards, Microsoft Windows, and Mac hardware.\n",
    "  - **Science**: Conversations around scientific disciplines such as physics, medicine, and space.\n",
    "  - **Sociopolitical**: Debates and discussions on politics, guns, and the Middle East.\n",
    "  - **Religion**: Dialogues concerning atheism, Christianity, and Islam.\n",
    "\n",
    "- **Content**: It contains around 20,000 discussion items, roughly equally distributed across the 20 different newsgroups. \n",
    "\n",
    "- **Format**: Each entry in the dataset is a raw text file that may include the message body, headers, footers, and quotes. "
   ]
  },
  {
   "cell_type": "code",
   "execution_count": 1,
   "id": "5dc57019",
   "metadata": {},
   "outputs": [],
   "source": [
    "import pandas as pd\n",
    "import xgboost as xgb\n",
    "from sklearn.pipeline import Pipeline\n",
    "from sklearn.metrics import accuracy_score, precision_score, recall_score, f1_score, confusion_matrix\n",
    "from sklearn.datasets import fetch_20newsgroups\n",
    "from sklearn.model_selection import train_test_split\n",
    "from sentence_transformers import SentenceTransformer # pip install -U sentence-transformers"
   ]
  },
  {
   "cell_type": "code",
   "execution_count": 2,
   "id": "cd7a40ba",
   "metadata": {},
   "outputs": [],
   "source": [
    "train = fetch_20newsgroups(subset='train')"
   ]
  },
  {
   "cell_type": "code",
   "execution_count": 3,
   "id": "53db5839",
   "metadata": {},
   "outputs": [
    {
     "data": {
      "text/plain": [
       "array([7, 4, 4, ..., 3, 1, 8])"
      ]
     },
     "execution_count": 3,
     "metadata": {},
     "output_type": "execute_result"
    }
   ],
   "source": [
    "train.target"
   ]
  },
  {
   "cell_type": "code",
   "execution_count": 4,
   "id": "e0b5193f",
   "metadata": {},
   "outputs": [
    {
     "data": {
      "text/plain": [
       "['alt.atheism',\n",
       " 'comp.graphics',\n",
       " 'comp.os.ms-windows.misc',\n",
       " 'comp.sys.ibm.pc.hardware',\n",
       " 'comp.sys.mac.hardware',\n",
       " 'comp.windows.x',\n",
       " 'misc.forsale',\n",
       " 'rec.autos',\n",
       " 'rec.motorcycles',\n",
       " 'rec.sport.baseball',\n",
       " 'rec.sport.hockey',\n",
       " 'sci.crypt',\n",
       " 'sci.electronics',\n",
       " 'sci.med',\n",
       " 'sci.space',\n",
       " 'soc.religion.christian',\n",
       " 'talk.politics.guns',\n",
       " 'talk.politics.mideast',\n",
       " 'talk.politics.misc',\n",
       " 'talk.religion.misc']"
      ]
     },
     "execution_count": 4,
     "metadata": {},
     "output_type": "execute_result"
    }
   ],
   "source": [
    "train.target_names"
   ]
  },
  {
   "cell_type": "code",
   "execution_count": 5,
   "id": "24d848e9",
   "metadata": {},
   "outputs": [
    {
     "name": "stdout",
     "output_type": "stream",
     "text": [
      "From: lerxst@wam.umd.edu (where's my thing)\n",
      "Subject: WHAT car is this!?\n",
      "Nntp-Posting-Host: rac3.wam.umd.edu\n",
      "Organization: University of Maryland, College Park\n",
      "Lines: 15\n",
      "\n",
      " I was wondering if anyone out there could enlighten me on this car I saw\n",
      "the other day. It was a 2-door sports car, looked to be from the late 60s/\n",
      "early 70s. It was called a Bricklin. The doors were really small. In addition,\n",
      "the front bumper was separate from the rest of the body. This is \n",
      "all I know. If anyone can tellme a model name, engine specs, years\n",
      "of production, where this car is made, history, or whatever info you\n",
      "have on this funky looking car, please e-mail.\n",
      "\n",
      "Thanks,\n",
      "- IL\n",
      "   ---- brought to you by your neighborhood Lerxst ----\n",
      "\n",
      "\n",
      "\n",
      "\n",
      "\n"
     ]
    }
   ],
   "source": [
    "print(train.data[0])"
   ]
  },
  {
   "cell_type": "code",
   "execution_count": 6,
   "id": "47ce82b9",
   "metadata": {},
   "outputs": [],
   "source": [
    "model = SentenceTransformer(\"all-MiniLM-L6-v2\") "
   ]
  },
  {
   "cell_type": "code",
   "execution_count": 7,
   "id": "e5103cd5",
   "metadata": {},
   "outputs": [],
   "source": [
    "# Our sentences to encode\n",
    "sentences = train.data\n",
    "\n",
    "# Sentences are encoded by calling model.encode()\n",
    "embeddings = model.encode(sentences)"
   ]
  },
  {
   "cell_type": "code",
   "execution_count": 8,
   "id": "dfa27703",
   "metadata": {},
   "outputs": [
    {
     "data": {
      "text/plain": [
       "(384,)"
      ]
     },
     "execution_count": 8,
     "metadata": {},
     "output_type": "execute_result"
    }
   ],
   "source": [
    "embeddings[0].shape"
   ]
  },
  {
   "cell_type": "code",
   "execution_count": 9,
   "id": "b47597b4",
   "metadata": {},
   "outputs": [
    {
     "data": {
      "text/plain": [
       "11314"
      ]
     },
     "execution_count": 9,
     "metadata": {},
     "output_type": "execute_result"
    }
   ],
   "source": [
    "len(embeddings)"
   ]
  },
  {
   "cell_type": "code",
   "execution_count": 10,
   "id": "76c28fd6",
   "metadata": {},
   "outputs": [],
   "source": [
    "df = pd.DataFrame(embeddings)"
   ]
  },
  {
   "cell_type": "code",
   "execution_count": 11,
   "id": "5e81be0b",
   "metadata": {},
   "outputs": [
    {
     "data": {
      "text/html": [
       "<div>\n",
       "<style scoped>\n",
       "    .dataframe tbody tr th:only-of-type {\n",
       "        vertical-align: middle;\n",
       "    }\n",
       "\n",
       "    .dataframe tbody tr th {\n",
       "        vertical-align: top;\n",
       "    }\n",
       "\n",
       "    .dataframe thead th {\n",
       "        text-align: right;\n",
       "    }\n",
       "</style>\n",
       "<table border=\"1\" class=\"dataframe\">\n",
       "  <thead>\n",
       "    <tr style=\"text-align: right;\">\n",
       "      <th></th>\n",
       "      <th>0</th>\n",
       "      <th>1</th>\n",
       "      <th>2</th>\n",
       "      <th>3</th>\n",
       "      <th>4</th>\n",
       "      <th>5</th>\n",
       "      <th>6</th>\n",
       "      <th>7</th>\n",
       "      <th>8</th>\n",
       "      <th>9</th>\n",
       "      <th>...</th>\n",
       "      <th>374</th>\n",
       "      <th>375</th>\n",
       "      <th>376</th>\n",
       "      <th>377</th>\n",
       "      <th>378</th>\n",
       "      <th>379</th>\n",
       "      <th>380</th>\n",
       "      <th>381</th>\n",
       "      <th>382</th>\n",
       "      <th>383</th>\n",
       "    </tr>\n",
       "  </thead>\n",
       "  <tbody>\n",
       "    <tr>\n",
       "      <th>0</th>\n",
       "      <td>-0.073384</td>\n",
       "      <td>0.144642</td>\n",
       "      <td>0.043866</td>\n",
       "      <td>-0.008487</td>\n",
       "      <td>0.010976</td>\n",
       "      <td>0.004650</td>\n",
       "      <td>-0.092037</td>\n",
       "      <td>0.056421</td>\n",
       "      <td>-0.117753</td>\n",
       "      <td>-0.004202</td>\n",
       "      <td>...</td>\n",
       "      <td>-0.065488</td>\n",
       "      <td>-0.052008</td>\n",
       "      <td>-0.062907</td>\n",
       "      <td>0.004635</td>\n",
       "      <td>0.022742</td>\n",
       "      <td>-0.064751</td>\n",
       "      <td>0.104309</td>\n",
       "      <td>-0.024578</td>\n",
       "      <td>-0.006717</td>\n",
       "      <td>0.132525</td>\n",
       "    </tr>\n",
       "    <tr>\n",
       "      <th>1</th>\n",
       "      <td>0.010949</td>\n",
       "      <td>0.038870</td>\n",
       "      <td>0.048669</td>\n",
       "      <td>0.013852</td>\n",
       "      <td>0.006879</td>\n",
       "      <td>-0.030265</td>\n",
       "      <td>-0.027496</td>\n",
       "      <td>0.062196</td>\n",
       "      <td>-0.020248</td>\n",
       "      <td>-0.073615</td>\n",
       "      <td>...</td>\n",
       "      <td>-0.010721</td>\n",
       "      <td>0.015176</td>\n",
       "      <td>-0.073615</td>\n",
       "      <td>0.076515</td>\n",
       "      <td>0.015066</td>\n",
       "      <td>0.117065</td>\n",
       "      <td>0.029308</td>\n",
       "      <td>-0.011192</td>\n",
       "      <td>-0.052652</td>\n",
       "      <td>-0.000681</td>\n",
       "    </tr>\n",
       "    <tr>\n",
       "      <th>2</th>\n",
       "      <td>-0.072989</td>\n",
       "      <td>-0.018359</td>\n",
       "      <td>0.014476</td>\n",
       "      <td>0.039985</td>\n",
       "      <td>0.038344</td>\n",
       "      <td>-0.004665</td>\n",
       "      <td>-0.105183</td>\n",
       "      <td>0.053926</td>\n",
       "      <td>0.000405</td>\n",
       "      <td>-0.000927</td>\n",
       "      <td>...</td>\n",
       "      <td>-0.035562</td>\n",
       "      <td>0.035174</td>\n",
       "      <td>-0.084836</td>\n",
       "      <td>0.048907</td>\n",
       "      <td>-0.061031</td>\n",
       "      <td>0.035921</td>\n",
       "      <td>0.042243</td>\n",
       "      <td>-0.125008</td>\n",
       "      <td>-0.101583</td>\n",
       "      <td>0.016186</td>\n",
       "    </tr>\n",
       "    <tr>\n",
       "      <th>3</th>\n",
       "      <td>-0.107436</td>\n",
       "      <td>0.012275</td>\n",
       "      <td>-0.032905</td>\n",
       "      <td>0.003114</td>\n",
       "      <td>-0.017748</td>\n",
       "      <td>-0.009349</td>\n",
       "      <td>0.010851</td>\n",
       "      <td>0.091343</td>\n",
       "      <td>-0.082454</td>\n",
       "      <td>-0.130297</td>\n",
       "      <td>...</td>\n",
       "      <td>-0.114026</td>\n",
       "      <td>0.030369</td>\n",
       "      <td>0.012861</td>\n",
       "      <td>0.007753</td>\n",
       "      <td>-0.013295</td>\n",
       "      <td>0.056767</td>\n",
       "      <td>-0.016463</td>\n",
       "      <td>-0.047806</td>\n",
       "      <td>-0.058419</td>\n",
       "      <td>-0.018400</td>\n",
       "    </tr>\n",
       "    <tr>\n",
       "      <th>4</th>\n",
       "      <td>-0.027212</td>\n",
       "      <td>-0.032349</td>\n",
       "      <td>0.024046</td>\n",
       "      <td>0.117962</td>\n",
       "      <td>0.055256</td>\n",
       "      <td>-0.044903</td>\n",
       "      <td>0.065358</td>\n",
       "      <td>0.071563</td>\n",
       "      <td>-0.045105</td>\n",
       "      <td>0.076455</td>\n",
       "      <td>...</td>\n",
       "      <td>-0.035330</td>\n",
       "      <td>0.037122</td>\n",
       "      <td>-0.013958</td>\n",
       "      <td>-0.038620</td>\n",
       "      <td>-0.012475</td>\n",
       "      <td>-0.006234</td>\n",
       "      <td>0.099191</td>\n",
       "      <td>0.039579</td>\n",
       "      <td>-0.044369</td>\n",
       "      <td>-0.014249</td>\n",
       "    </tr>\n",
       "  </tbody>\n",
       "</table>\n",
       "<p>5 rows × 384 columns</p>\n",
       "</div>"
      ],
      "text/plain": [
       "        0         1         2         3         4         5         6    \\\n",
       "0 -0.073384  0.144642  0.043866 -0.008487  0.010976  0.004650 -0.092037   \n",
       "1  0.010949  0.038870  0.048669  0.013852  0.006879 -0.030265 -0.027496   \n",
       "2 -0.072989 -0.018359  0.014476  0.039985  0.038344 -0.004665 -0.105183   \n",
       "3 -0.107436  0.012275 -0.032905  0.003114 -0.017748 -0.009349  0.010851   \n",
       "4 -0.027212 -0.032349  0.024046  0.117962  0.055256 -0.044903  0.065358   \n",
       "\n",
       "        7         8         9    ...       374       375       376       377  \\\n",
       "0  0.056421 -0.117753 -0.004202  ... -0.065488 -0.052008 -0.062907  0.004635   \n",
       "1  0.062196 -0.020248 -0.073615  ... -0.010721  0.015176 -0.073615  0.076515   \n",
       "2  0.053926  0.000405 -0.000927  ... -0.035562  0.035174 -0.084836  0.048907   \n",
       "3  0.091343 -0.082454 -0.130297  ... -0.114026  0.030369  0.012861  0.007753   \n",
       "4  0.071563 -0.045105  0.076455  ... -0.035330  0.037122 -0.013958 -0.038620   \n",
       "\n",
       "        378       379       380       381       382       383  \n",
       "0  0.022742 -0.064751  0.104309 -0.024578 -0.006717  0.132525  \n",
       "1  0.015066  0.117065  0.029308 -0.011192 -0.052652 -0.000681  \n",
       "2 -0.061031  0.035921  0.042243 -0.125008 -0.101583  0.016186  \n",
       "3 -0.013295  0.056767 -0.016463 -0.047806 -0.058419 -0.018400  \n",
       "4 -0.012475 -0.006234  0.099191  0.039579 -0.044369 -0.014249  \n",
       "\n",
       "[5 rows x 384 columns]"
      ]
     },
     "execution_count": 11,
     "metadata": {},
     "output_type": "execute_result"
    }
   ],
   "source": [
    "df.head()"
   ]
  },
  {
   "cell_type": "code",
   "execution_count": 12,
   "id": "fd9090fd",
   "metadata": {},
   "outputs": [],
   "source": [
    "df['label'] = train.target"
   ]
  },
  {
   "cell_type": "code",
   "execution_count": 13,
   "id": "0855346c",
   "metadata": {},
   "outputs": [],
   "source": [
    "label_dict = {k:v for k,v in enumerate(train.target_names, 0)}"
   ]
  },
  {
   "cell_type": "code",
   "execution_count": 14,
   "id": "cf0bc61f",
   "metadata": {},
   "outputs": [
    {
     "data": {
      "text/plain": [
       "{0: 'alt.atheism',\n",
       " 1: 'comp.graphics',\n",
       " 2: 'comp.os.ms-windows.misc',\n",
       " 3: 'comp.sys.ibm.pc.hardware',\n",
       " 4: 'comp.sys.mac.hardware',\n",
       " 5: 'comp.windows.x',\n",
       " 6: 'misc.forsale',\n",
       " 7: 'rec.autos',\n",
       " 8: 'rec.motorcycles',\n",
       " 9: 'rec.sport.baseball',\n",
       " 10: 'rec.sport.hockey',\n",
       " 11: 'sci.crypt',\n",
       " 12: 'sci.electronics',\n",
       " 13: 'sci.med',\n",
       " 14: 'sci.space',\n",
       " 15: 'soc.religion.christian',\n",
       " 16: 'talk.politics.guns',\n",
       " 17: 'talk.politics.mideast',\n",
       " 18: 'talk.politics.misc',\n",
       " 19: 'talk.religion.misc'}"
      ]
     },
     "execution_count": 14,
     "metadata": {},
     "output_type": "execute_result"
    }
   ],
   "source": [
    "label_dict"
   ]
  },
  {
   "cell_type": "code",
   "execution_count": 15,
   "id": "e68463d9",
   "metadata": {},
   "outputs": [],
   "source": [
    "df['label'].replace(label_dict, inplace=True)"
   ]
  },
  {
   "cell_type": "code",
   "execution_count": 16,
   "id": "b6d599fd",
   "metadata": {},
   "outputs": [
    {
     "data": {
      "text/html": [
       "<div>\n",
       "<style scoped>\n",
       "    .dataframe tbody tr th:only-of-type {\n",
       "        vertical-align: middle;\n",
       "    }\n",
       "\n",
       "    .dataframe tbody tr th {\n",
       "        vertical-align: top;\n",
       "    }\n",
       "\n",
       "    .dataframe thead th {\n",
       "        text-align: right;\n",
       "    }\n",
       "</style>\n",
       "<table border=\"1\" class=\"dataframe\">\n",
       "  <thead>\n",
       "    <tr style=\"text-align: right;\">\n",
       "      <th></th>\n",
       "      <th>0</th>\n",
       "      <th>1</th>\n",
       "      <th>2</th>\n",
       "      <th>3</th>\n",
       "      <th>4</th>\n",
       "      <th>5</th>\n",
       "      <th>6</th>\n",
       "      <th>7</th>\n",
       "      <th>8</th>\n",
       "      <th>9</th>\n",
       "      <th>...</th>\n",
       "      <th>375</th>\n",
       "      <th>376</th>\n",
       "      <th>377</th>\n",
       "      <th>378</th>\n",
       "      <th>379</th>\n",
       "      <th>380</th>\n",
       "      <th>381</th>\n",
       "      <th>382</th>\n",
       "      <th>383</th>\n",
       "      <th>label</th>\n",
       "    </tr>\n",
       "  </thead>\n",
       "  <tbody>\n",
       "    <tr>\n",
       "      <th>2538</th>\n",
       "      <td>-0.034843</td>\n",
       "      <td>-0.058041</td>\n",
       "      <td>-0.066117</td>\n",
       "      <td>0.008092</td>\n",
       "      <td>-0.003159</td>\n",
       "      <td>-0.003017</td>\n",
       "      <td>-0.027399</td>\n",
       "      <td>-0.035066</td>\n",
       "      <td>0.027299</td>\n",
       "      <td>0.037996</td>\n",
       "      <td>...</td>\n",
       "      <td>0.006640</td>\n",
       "      <td>-0.013894</td>\n",
       "      <td>-0.052924</td>\n",
       "      <td>0.006114</td>\n",
       "      <td>0.006530</td>\n",
       "      <td>0.127832</td>\n",
       "      <td>-0.015681</td>\n",
       "      <td>0.011310</td>\n",
       "      <td>0.061710</td>\n",
       "      <td>talk.politics.mideast</td>\n",
       "    </tr>\n",
       "    <tr>\n",
       "      <th>7845</th>\n",
       "      <td>0.016892</td>\n",
       "      <td>-0.106390</td>\n",
       "      <td>0.001552</td>\n",
       "      <td>-0.100962</td>\n",
       "      <td>-0.095707</td>\n",
       "      <td>0.008934</td>\n",
       "      <td>-0.119062</td>\n",
       "      <td>0.026750</td>\n",
       "      <td>-0.029804</td>\n",
       "      <td>0.005235</td>\n",
       "      <td>...</td>\n",
       "      <td>0.049609</td>\n",
       "      <td>-0.007812</td>\n",
       "      <td>-0.053950</td>\n",
       "      <td>0.031513</td>\n",
       "      <td>-0.003336</td>\n",
       "      <td>0.033478</td>\n",
       "      <td>0.062172</td>\n",
       "      <td>-0.045588</td>\n",
       "      <td>0.025845</td>\n",
       "      <td>comp.sys.mac.hardware</td>\n",
       "    </tr>\n",
       "    <tr>\n",
       "      <th>1955</th>\n",
       "      <td>-0.069299</td>\n",
       "      <td>-0.045954</td>\n",
       "      <td>0.083345</td>\n",
       "      <td>-0.005201</td>\n",
       "      <td>-0.011273</td>\n",
       "      <td>-0.044890</td>\n",
       "      <td>-0.046241</td>\n",
       "      <td>-0.014178</td>\n",
       "      <td>0.001070</td>\n",
       "      <td>0.014388</td>\n",
       "      <td>...</td>\n",
       "      <td>-0.082850</td>\n",
       "      <td>-0.001430</td>\n",
       "      <td>-0.041279</td>\n",
       "      <td>-0.049106</td>\n",
       "      <td>0.074680</td>\n",
       "      <td>-0.096011</td>\n",
       "      <td>-0.037772</td>\n",
       "      <td>0.010779</td>\n",
       "      <td>0.026012</td>\n",
       "      <td>sci.crypt</td>\n",
       "    </tr>\n",
       "  </tbody>\n",
       "</table>\n",
       "<p>3 rows × 385 columns</p>\n",
       "</div>"
      ],
      "text/plain": [
       "             0         1         2         3         4         5         6  \\\n",
       "2538 -0.034843 -0.058041 -0.066117  0.008092 -0.003159 -0.003017 -0.027399   \n",
       "7845  0.016892 -0.106390  0.001552 -0.100962 -0.095707  0.008934 -0.119062   \n",
       "1955 -0.069299 -0.045954  0.083345 -0.005201 -0.011273 -0.044890 -0.046241   \n",
       "\n",
       "             7         8         9  ...       375       376       377  \\\n",
       "2538 -0.035066  0.027299  0.037996  ...  0.006640 -0.013894 -0.052924   \n",
       "7845  0.026750 -0.029804  0.005235  ...  0.049609 -0.007812 -0.053950   \n",
       "1955 -0.014178  0.001070  0.014388  ... -0.082850 -0.001430 -0.041279   \n",
       "\n",
       "           378       379       380       381       382       383  \\\n",
       "2538  0.006114  0.006530  0.127832 -0.015681  0.011310  0.061710   \n",
       "7845  0.031513 -0.003336  0.033478  0.062172 -0.045588  0.025845   \n",
       "1955 -0.049106  0.074680 -0.096011 -0.037772  0.010779  0.026012   \n",
       "\n",
       "                      label  \n",
       "2538  talk.politics.mideast  \n",
       "7845  comp.sys.mac.hardware  \n",
       "1955              sci.crypt  \n",
       "\n",
       "[3 rows x 385 columns]"
      ]
     },
     "execution_count": 16,
     "metadata": {},
     "output_type": "execute_result"
    }
   ],
   "source": [
    "df.sample(3)"
   ]
  },
  {
   "cell_type": "code",
   "execution_count": 17,
   "id": "774868ca",
   "metadata": {},
   "outputs": [
    {
     "data": {
      "text/plain": [
       "label\n",
       "rec.sport.hockey            600\n",
       "soc.religion.christian      599\n",
       "rec.motorcycles             598\n",
       "rec.sport.baseball          597\n",
       "sci.crypt                   595\n",
       "rec.autos                   594\n",
       "sci.med                     594\n",
       "comp.windows.x              593\n",
       "sci.space                   593\n",
       "comp.os.ms-windows.misc     591\n",
       "sci.electronics             591\n",
       "comp.sys.ibm.pc.hardware    590\n",
       "misc.forsale                585\n",
       "comp.graphics               584\n",
       "comp.sys.mac.hardware       578\n",
       "talk.politics.mideast       564\n",
       "talk.politics.guns          546\n",
       "alt.atheism                 480\n",
       "talk.politics.misc          465\n",
       "talk.religion.misc          377\n",
       "Name: count, dtype: int64"
      ]
     },
     "execution_count": 17,
     "metadata": {},
     "output_type": "execute_result"
    }
   ],
   "source": [
    "df.label.value_counts()"
   ]
  },
  {
   "cell_type": "code",
   "execution_count": 18,
   "id": "ad84aef0",
   "metadata": {},
   "outputs": [],
   "source": [
    "df = df[df['label'].isin(['rec.sport.baseball', 'sci.space'])]"
   ]
  },
  {
   "cell_type": "code",
   "execution_count": 19,
   "id": "c6e6b0fa",
   "metadata": {},
   "outputs": [],
   "source": [
    "X = df[df.columns[:-1]]\n",
    "y = df['label'].apply(lambda x: 1 if x == 'rec.sport.baseball' else 0)"
   ]
  },
  {
   "cell_type": "code",
   "execution_count": 20,
   "id": "a05dfd57",
   "metadata": {},
   "outputs": [],
   "source": [
    "# Splitting the dataset into training and testing sets\n",
    "X_train, X_test, y_train, y_test = train_test_split(X,\n",
    "                                                    y,\n",
    "                                                    test_size=0.2,\n",
    "                                                    random_state=42)"
   ]
  },
  {
   "cell_type": "code",
   "execution_count": 21,
   "id": "559fd37c",
   "metadata": {},
   "outputs": [
    {
     "name": "stdout",
     "output_type": "stream",
     "text": [
      "Accuracy: 0.9831932773109243\n",
      "Precision: 0.9915254237288136\n",
      "Recall: 0.975\n",
      "F1 Score: 0.9831932773109243\n"
     ]
    }
   ],
   "source": [
    "# Actually we don't need to normalize data in this case\n",
    "# If you're not sure why, use df.describe()\n",
    "clf = Pipeline(steps=[  #('preprocessor', preprocessor),\n",
    "    ('classifier',\n",
    "     xgb.XGBClassifier(use_label_encoder=False, eval_metric='logloss'))\n",
    "])\n",
    "\n",
    "# Train the XGBoost model\n",
    "clf.fit(X_train, y_train)\n",
    "\n",
    "# Predict on the testing set\n",
    "y_pred = clf.predict(X_test)\n",
    "\n",
    "# Evaluation metrics\n",
    "accuracy = accuracy_score(y_test, y_pred)\n",
    "precision = precision_score(y_test, y_pred)\n",
    "recall = recall_score(y_test, y_pred)\n",
    "f1 = f1_score(y_test, y_pred)\n",
    "conf_matrix = confusion_matrix(y_test, y_pred)\n",
    "\n",
    "print(f'Accuracy: {accuracy}')\n",
    "print(f'Precision: {precision}')\n",
    "print(f'Recall: {recall}')\n",
    "print(f'F1 Score: {f1}')"
   ]
  }
 ],
 "metadata": {
  "kernelspec": {
   "display_name": "Python 3 (ipykernel)",
   "language": "python",
   "name": "python3"
  },
  "language_info": {
   "codemirror_mode": {
    "name": "ipython",
    "version": 3
   },
   "file_extension": ".py",
   "mimetype": "text/x-python",
   "name": "python",
   "nbconvert_exporter": "python",
   "pygments_lexer": "ipython3",
   "version": "3.11.5"
  }
 },
 "nbformat": 4,
 "nbformat_minor": 5
}
